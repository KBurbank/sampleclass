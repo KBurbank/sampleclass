{
 "cells": [
  {
   "cell_type": "code",
   "execution_count": 1,
   "metadata": {
    "collapsed": false
   },
   "outputs": [
   ],
   "source": [
    "import ipywidgets as widgets\n",
    "from ipywidgets import interact, interact_manual,fixed\n",
    "import ipywidgets as widgets\n",
    "\n",
    "import pandas as pd"
   ]
  },
  {
   "cell_type": "code",
   "execution_count": 2,
   "metadata": {
    "collapsed": false
   },
   "outputs": [
   ],
   "source": [
    "import matplotlib.pyplot as plt"
   ]
  },
  {
   "cell_type": "code",
   "execution_count": 81,
   "metadata": {
    "collapsed": false
   },
   "outputs": [
   ],
   "source": [
    "def data_from_date(date):\n",
    "    url='https://raw.githubusercontent.com/CSSEGISandData/COVID-19/master/csse_covid_19_data/csse_covid_19_daily_reports/'+date+'-2020.csv'\n",
    "    df_jh=pd.read_csv(url)\n",
    "    df2=pd.read_csv(\"demographics.csv\",header=0,na_values=['(NA)']).fillna(0)\n",
    "    df2=df2.iloc[1:,:]\n",
    "    df2['FIPS']=df2['FIPS'].astype('float')\n",
    "    df2=pd.merge(df_jh,df2,on='FIPS')\n",
    "    cols=df2.columns[5:]\n",
    "    df2[cols] = df2[cols].apply(pd.to_numeric, errors='coerce')\n",
    "    df2.rename(columns={\"Admin2\":\"County\",'Long_':\"Longitude\",'Lat':'Latitude'},inplace=True)\n",
    "    df2.set_index('County',inplace=True)\n",
    "    df2.rename(columns={\"Province_State\":\"State\"},inplace=True)\n",
    "    df2.insert(6, 'Confirmed cases per capita', df2['Confirmed'].div(df2['Total Population']))\n",
    "    df2.insert(7, 'Deaths per capita', df2['Deaths'].div(df2['Total Population']))\n",
    "\n",
    "\n",
    "    return(df2)\n",
    "\n",
    "def plot_time_series(df,list_of_counties,per_capita=True):\n",
    "    if per_capita:\n",
    "        ax=df.loc[list_of_counties].iloc[:,11:].div(dfs['04-01'].loc[list_of_counties,'Total Population'].values,axis=0).T.plot()\n",
    "        ax.set_ylabel(\"Cumulative cases per capita\")\n",
    "    else:\n",
    "        ax=df.loc[list_of_counties].iloc[:,11:].T.plot()\n",
    "        ax.set_ylabel(\"Cumulative cases\")\n"
   ]
  },
  {
   "cell_type": "code",
   "execution_count": 82,
   "metadata": {
    "collapsed": false
   },
   "outputs": [
    {
     "name": "stdout",
     "output_type": "stream",
     "text": [
      "04-01\n"
     ]
    },
    {
     "name": "stdout",
     "output_type": "stream",
     "text": [
      "04-15\n"
     ]
    },
    {
     "name": "stdout",
     "output_type": "stream",
     "text": [
      "05-01\n"
     ]
    },
    {
     "name": "stdout",
     "output_type": "stream",
     "text": [
      "05-15\n"
     ]
    },
    {
     "name": "stdout",
     "output_type": "stream",
     "text": [
      "06-01\n"
     ]
    },
    {
     "name": "stdout",
     "output_type": "stream",
     "text": [
      "06-15\n"
     ]
    },
    {
     "name": "stdout",
     "output_type": "stream",
     "text": [
      "07-01\n"
     ]
    }
   ],
   "source": [
    "dates=['04-01','04-15','05-01','05-15','06-01','06-15','07-01','07-15','07-25']\n",
    "dfs={}\n",
    "for index, this_date in enumerate(dates):\n",
    "    print(this_date)\n",
    "    dfs[this_date]=data_from_date(this_date)"
   ]
  },
  {
   "cell_type": "code",
   "execution_count": 80,
   "metadata": {
    "collapsed": false
   },
   "outputs": [
   ],
   "source": [
    "pd.to_pickle(dfs,'dfs.pkl')"
   ]
  },
  {
   "cell_type": "code",
   "execution_count": 74,
   "metadata": {
    "collapsed": false
   },
   "outputs": [
    {
     "data": {
      "text/plain": [
       "Index(['FIPS', 'State', 'Country_Region', 'Last_Update', 'Lat', 'Long_',\n",
       "       'Confirmed per capita', 'Confirmed', 'Deaths', 'Recovered',\n",
       "       ...\n",
       "       '% Workers 16 Years and Over: Other Means',\n",
       "       '% Workers 16 Years and Over: Worked At Home',\n",
       "       '% Total Population: Native Born', '% Total Population: Foreign Born',\n",
       "       '% Total Population: Foreign Born: Naturalized Citizen',\n",
       "       '% Total Population: Foreign Born: Not a Citizen',\n",
       "       '% Total: No Health Insurance Coverage',\n",
       "       '% Total: with Health Insurance Coverage',\n",
       "       '% Total: with Health Insurance Coverage: Public Health Coverage',\n",
       "       '% Total: with Health Insurance Coverage: Private Health Insurance'],\n",
       "      dtype='object', length=141)"
      ]
     },
     "execution_count": 74,
     "metadata": {
     },
     "output_type": "execute_result"
    }
   ],
   "source": [
    "dfs['04-01'].columns"
   ]
  },
  {
   "cell_type": "markdown",
   "metadata": {
    "collapsed": false
   },
   "source": [
    "Look at the data for Yuba County, California"
   ]
  },
  {
   "cell_type": "code",
   "execution_count": 8,
   "metadata": {
    "collapsed": false
   },
   "outputs": [
   ],
   "source": [
    "def make_plots(date,yaxis, xaxis,dfs):\n",
    "    print(f\"Correlation between {xaxis} and {yaxis}: {dfs[date][xaxis].corr(dfs[date][yaxis])}\")\n",
    "    dfs[date].plot(xaxis,yaxis,kind='scatter')\n",
    "    plt.show()\n",
    "    return  dfs[date][[xaxis,yaxis]].hist()\n",
    "kwargs = {'date':dfs.keys(),'yaxis':list(dfs['04-01'].select_dtypes('number').columns[2:]),'xaxis':list(dfs['04-01'].select_dtypes('number').columns[2:]),'dfs':fixed(dfs)}"
   ]
  },
  {
   "cell_type": "code",
   "execution_count": 9,
   "metadata": {
    "collapsed": false
   },
   "outputs": [
    {
     "data": {
      "application/vnd.jupyter.widget-view+json": {
       "model_id": "540f8bb3f0b74ad18b8a7b8c4579e9ae",
       "version_major": 2,
       "version_minor": 0
      },
      "text/plain": [
       "interactive(children=(Dropdown(description='date', options=('04-01', '04-15', '05-01', '05-15', '06-01', '06-1…"
      ]
     },
     "execution_count": 9,
     "metadata": {
     },
     "output_type": "execute_result"
    },
    {
     "data": {
      "text/plain": [
       "<function __main__.make_plots(date, yaxis, xaxis, dfs)>"
      ]
     },
     "execution_count": 9,
     "metadata": {
     },
     "output_type": "execute_result"
    }
   ],
   "source": [
    "interact(make_plots,**kwargs)\n"
   ]
  },
  {
   "cell_type": "code",
   "execution_count": 36,
   "metadata": {
    "collapsed": false
   },
   "outputs": [
    {
     "data": {
      "application/vnd.jupyter.widget-view+json": {
       "model_id": "da68276efc2140cf9fad6e70f8bd9d46",
       "version_major": 2,
       "version_minor": 0
      },
      "text/plain": [
       "interactive(children=(Dropdown(description='date', options=('04-01', '04-15', '05-01', '05-15', '06-01', '06-1…"
      ]
     },
     "execution_count": 36,
     "metadata": {
     },
     "output_type": "execute_result"
    },
    {
     "data": {
      "text/plain": [
       "<function __main__.make_plots(date, yaxis, xaxis)>"
      ]
     },
     "execution_count": 36,
     "metadata": {
     },
     "output_type": "execute_result"
    }
   ],
   "source": [
    "interact(make_plots,**kwargs)"
   ]
  },
  {
   "cell_type": "code",
   "execution_count": 10,
   "metadata": {
    "collapsed": false
   },
   "outputs": [
   ],
   "source": [
    "df_timeseries=pd.read_csv('https://github.com/CSSEGISandData/COVID-19/raw/master/csse_covid_19_data/csse_covid_19_time_series/time_series_covid19_confirmed_US.csv')\n",
    "groups=df_timeseries.groupby('Province_State')\n",
    "df_texas=groups.get_group('Texas').copy()\n",
    "df_texas.rename(columns={'Admin2':'County'},inplace=True)\n",
    "df_texas.set_index('County',inplace=True)\n",
    "df_california=groups.get_group('California').copy()\n",
    "df_california.rename(columns={'Admin2':'County'},inplace=True)\n",
    "df_california.set_index('County',inplace=True)"
   ]
  },
  {
   "cell_type": "code",
   "execution_count": 54,
   "metadata": {
    "collapsed": false
   },
   "outputs": [
   ],
   "source": [
    "pd.to_pickle(df_texas,'texas.pkl')\n",
    "pd.to_pickle(df_california,'california.pkl')\n",
    "\n"
   ]
  },
  {
   "cell_type": "code",
   "execution_count": 0,
   "metadata": {
    "collapsed": false
   },
   "outputs": [
   ],
   "source": [
   ]
  }
 ],
 "metadata": {
  "kernelspec": {
   "display_name": "Python 3 (system-wide)",
   "language": "python",
   "metadata": {
    "cocalc": {
     "description": "Python 3 programming language",
     "priority": 100,
     "url": "https://www.python.org/"
    }
   },
   "name": "python3"
  },
  "language_info": {
   "codemirror_mode": {
    "name": "ipython",
    "version": 3
   },
   "file_extension": ".py",
   "mimetype": "text/x-python",
   "name": "python",
   "nbconvert_exporter": "python",
   "pygments_lexer": "ipython3",
   "version": "3.6.9"
  }
 },
 "nbformat": 4,
 "nbformat_minor": 4
}